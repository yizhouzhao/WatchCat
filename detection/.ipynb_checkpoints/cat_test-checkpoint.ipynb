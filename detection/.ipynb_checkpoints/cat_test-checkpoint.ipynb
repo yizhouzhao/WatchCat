{
 "cells": [
  {
   "cell_type": "code",
   "execution_count": 1,
   "id": "5be6b599",
   "metadata": {},
   "outputs": [],
   "source": [
    "import cv2"
   ]
  },
  {
   "cell_type": "code",
   "execution_count": 13,
   "id": "9c77d22d",
   "metadata": {},
   "outputs": [],
   "source": [
    "from datetime import datetime, timedelta\n",
    "\n",
    "last_send_time = datetime.now()\n",
    "\n",
    "# Define the night time range (in 24-hour format)\n",
    "night_start_hour = 20  # 8 PM\n",
    "night_end_hour = 6  # 6 AM\n"
   ]
  },
  {
   "cell_type": "code",
   "execution_count": null,
   "id": "eb559c68",
   "metadata": {},
   "outputs": [],
   "source": [
    "import requests\n",
    "\n",
    "# URL of the endpoint\n",
    "url = \"http://localhost:8000/api/email/sendCat\""
   ]
  },
  {
   "cell_type": "code",
   "execution_count": 4,
   "id": "58490e19",
   "metadata": {},
   "outputs": [],
   "source": [
    "from ultralytics import YOLO"
   ]
  },
  {
   "cell_type": "code",
   "execution_count": 5,
   "id": "bfa218a5",
   "metadata": {},
   "outputs": [
    {
     "name": "stderr",
     "output_type": "stream",
     "text": [
      "\n",
      "                   from  n    params  module                                       arguments                     \n",
      "  0                  -1  1      1392  ultralytics.nn.modules.conv.Conv             [3, 48, 3, 2]                 \n",
      "  1                  -1  1     41664  ultralytics.nn.modules.conv.Conv             [48, 96, 3, 2]                \n",
      "  2                  -1  2    111360  ultralytics.nn.modules.block.C2f             [96, 96, 2, True]             \n",
      "  3                  -1  1    166272  ultralytics.nn.modules.conv.Conv             [96, 192, 3, 2]               \n",
      "  4                  -1  4    813312  ultralytics.nn.modules.block.C2f             [192, 192, 4, True]           \n",
      "  5                  -1  1    664320  ultralytics.nn.modules.conv.Conv             [192, 384, 3, 2]              \n",
      "  6                  -1  4   3248640  ultralytics.nn.modules.block.C2f             [384, 384, 4, True]           \n",
      "  7                  -1  1   1991808  ultralytics.nn.modules.conv.Conv             [384, 576, 3, 2]              \n",
      "  8                  -1  2   3985920  ultralytics.nn.modules.block.C2f             [576, 576, 2, True]           \n",
      "  9                  -1  1    831168  ultralytics.nn.modules.block.SPPF            [576, 576, 5]                 \n",
      " 10                  -1  1         0  torch.nn.modules.upsampling.Upsample         [None, 2, 'nearest']          \n",
      " 11             [-1, 6]  1         0  ultralytics.nn.modules.conv.Concat           [1]                           \n",
      " 12                  -1  2   1993728  ultralytics.nn.modules.block.C2f             [960, 384, 2]                 \n",
      " 13                  -1  1         0  torch.nn.modules.upsampling.Upsample         [None, 2, 'nearest']          \n",
      " 14             [-1, 4]  1         0  ultralytics.nn.modules.conv.Concat           [1]                           \n",
      " 15                  -1  2    517632  ultralytics.nn.modules.block.C2f             [576, 192, 2]                 \n",
      " 16                  -1  1    332160  ultralytics.nn.modules.conv.Conv             [192, 192, 3, 2]              \n",
      " 17            [-1, 12]  1         0  ultralytics.nn.modules.conv.Concat           [1]                           \n",
      " 18                  -1  2   1846272  ultralytics.nn.modules.block.C2f             [576, 384, 2]                 \n",
      " 19                  -1  1   1327872  ultralytics.nn.modules.conv.Conv             [384, 384, 3, 2]              \n",
      " 20             [-1, 9]  1         0  ultralytics.nn.modules.conv.Concat           [1]                           \n",
      " 21                  -1  2   4207104  ultralytics.nn.modules.block.C2f             [960, 576, 2]                 \n",
      " 22        [15, 18, 21]  1   3822016  ultralytics.nn.modules.head.Detect           [80, [192, 384, 576]]         \n",
      "YOLOv8m summary: 295 layers, 25902640 parameters, 25902624 gradients\n",
      "\n"
     ]
    }
   ],
   "source": [
    "# Load a model\n",
    "model = YOLO(\"yolov8m.yaml\")  # build a new model from scratch\n",
    "model = YOLO(\"yolov8m.pt\")  # load a pretrained model (recommended for training)"
   ]
  },
  {
   "cell_type": "code",
   "execution_count": 14,
   "id": "d0a41b05",
   "metadata": {},
   "outputs": [
    {
     "name": "stdout",
     "output_type": "stream",
     "text": [
      "Image captured and saved as captured_image.jpg\n"
     ]
    }
   ],
   "source": [
    "# Initialize the camera\n",
    "camera = cv2.VideoCapture(0)  # 0 represents the default camera (you can change it if you have multiple cameras)\n",
    "\n",
    "# Check if the camera is opened successfully\n",
    "if not camera.isOpened():\n",
    "    print(\"Error: Could not open camera.\")\n",
    "    exit()\n",
    "\n",
    "# Capture a frame from the camera\n",
    "ret, frame = camera.read()\n",
    "\n",
    "# Check if the frame was captured successfully\n",
    "if not ret:\n",
    "    print(\"Error: Could not read frame.\")\n",
    "    camera.release()  # Release the camera\n",
    "    exit()\n",
    "\n",
    "# Save the captured frame as an image file\n",
    "image_filename = \"captured_image.jpg\"\n",
    "cv2.imwrite(image_filename, frame)\n",
    "\n",
    "# Release the camera\n",
    "camera.release()\n",
    "\n",
    "print(f\"Image captured and saved as {image_filename}\")"
   ]
  },
  {
   "cell_type": "code",
   "execution_count": 15,
   "id": "4da47e95",
   "metadata": {
    "scrolled": true
   },
   "outputs": [
    {
     "name": "stderr",
     "output_type": "stream",
     "text": [
      "\n",
      "image 1/1 D:\\Interest\\WatchCat\\detection\\captured_image.jpg: 480x640 1 person, 1 cat, 2 chairs, 1 tv, 83.4ms\n",
      "Speed: 1.0ms preprocess, 83.4ms inference, 2.0ms postprocess per image at shape (1, 3, 480, 640)\n"
     ]
    }
   ],
   "source": [
    "results = model(image_filename)  # predict on an image"
   ]
  },
  {
   "cell_type": "code",
   "execution_count": 16,
   "id": "47e78aa6",
   "metadata": {},
   "outputs": [
    {
     "name": "stdout",
     "output_type": "stream",
     "text": [
      "cat is here\n",
      "time_difference:  0:00:30.583772\n"
     ]
    }
   ],
   "source": [
    "if len(results) > 0:\n",
    "    result = results[0]\n",
    "    result_cls = [result.names[i] for i in result.boxes.cls.tolist()]\n",
    "\n",
    "    if 'cat' in result_cls:\n",
    "        print(\"cat is here\")\n",
    "        \n",
    "        current_time = datetime.now()\n",
    "        current_hour = datetime.now().hour\n",
    "        time_difference = current_time - last_send_time\n",
    "        \n",
    "        print(\"time_difference: \", time_difference)\n",
    "        \n",
    "        if time_difference > timedelta(hours=1):\n",
    "            if \n",
    "            try:\n",
    "                # Sending a POST request\n",
    "                response = requests.get(url)\n",
    "\n",
    "                # Checking the response status code\n",
    "                if response.status_code == 200:\n",
    "                    print(\"POST request sent successfully.\")\n",
    "                else:\n",
    "                    print(f\"Failed to send POST request. Status code: {response.status_code}\")\n",
    "\n",
    "            except Exception as e:\n",
    "                print(f\"An error occurred: {e}\")"
   ]
  },
  {
   "cell_type": "code",
   "execution_count": null,
   "id": "828b805c",
   "metadata": {},
   "outputs": [],
   "source": []
  }
 ],
 "metadata": {
  "kernelspec": {
   "display_name": "fastsam",
   "language": "python",
   "name": "fastsam"
  },
  "language_info": {
   "codemirror_mode": {
    "name": "ipython",
    "version": 3
   },
   "file_extension": ".py",
   "mimetype": "text/x-python",
   "name": "python",
   "nbconvert_exporter": "python",
   "pygments_lexer": "ipython3",
   "version": "3.9.17"
  }
 },
 "nbformat": 4,
 "nbformat_minor": 5
}
