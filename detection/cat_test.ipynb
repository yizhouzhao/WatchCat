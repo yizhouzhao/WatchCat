{
 "cells": [
  {
   "cell_type": "code",
   "execution_count": null,
   "id": "5be6b599",
   "metadata": {},
   "outputs": [],
   "source": [
    "import cv2"
   ]
  },
  {
   "cell_type": "code",
   "execution_count": null,
   "id": "45d4f033",
   "metadata": {},
   "outputs": [],
   "source": [
    "from datetime import datetime, timedelta\n",
    "\n",
    "last_send_time = datetime.now()\n",
    "\n"
   ]
  },
  {
   "cell_type": "code",
   "execution_count": null,
   "id": "6a6072a7",
   "metadata": {},
   "outputs": [],
   "source": [
    "import requests\n",
    "\n",
    "# URL of the endpoint\n",
    "url = \"http://localhost:8000/api/email/sendCat\""
   ]
  },
  {
   "cell_type": "code",
   "execution_count": null,
   "id": "58490e19",
   "metadata": {},
   "outputs": [],
   "source": [
    "from ultralytics import YOLO"
   ]
  },
  {
   "cell_type": "code",
   "execution_count": null,
   "id": "bfa218a5",
   "metadata": {},
   "outputs": [],
   "source": [
    "# Load a model\n",
    "model = YOLO(\"yolov8m.yaml\")  # build a new model from scratch\n",
    "model = YOLO(\"yolov8m.pt\")  # load a pretrained model (recommended for training)"
   ]
  },
  {
   "cell_type": "code",
   "execution_count": null,
   "id": "ca352786",
   "metadata": {},
   "outputs": [],
   "source": [
    "# Initialize the camera\n",
    "camera = cv2.VideoCapture(0)  # 0 represents the default camera (you can change it if you have multiple cameras)\n",
    "\n",
    "# Check if the camera is opened successfully\n",
    "if not camera.isOpened():\n",
    "    print(\"Error: Could not open camera.\")\n",
    "    exit()\n",
    "\n",
    "# Capture a frame from the camera\n",
    "ret, frame = camera.read()\n",
    "\n",
    "# Check if the frame was captured successfully\n",
    "if not ret:\n",
    "    print(\"Error: Could not read frame.\")\n",
    "    camera.release()  # Release the camera\n",
    "    exit()\n",
    "\n",
    "# Save the captured frame as an image file\n",
    "image_filename = \"captured_image.jpg\"\n",
    "cv2.imwrite(image_filename, frame)\n",
    "\n",
    "# Release the camera\n",
    "camera.release()\n",
    "\n",
    "print(f\"Image captured and saved as {image_filename}\")"
   ]
  },
  {
   "cell_type": "code",
   "execution_count": null,
   "id": "4da47e95",
   "metadata": {
    "scrolled": true
   },
   "outputs": [],
   "source": [
    "results = model(image_filename)  # predict on an image"
   ]
  },
  {
   "cell_type": "code",
   "execution_count": null,
   "id": "5d13250a",
   "metadata": {},
   "outputs": [],
   "source": [
    "if len(results) > 0:\n",
    "    result = results[0]\n",
    "    result_cls = [result.names[i] for i in result.boxes.cls.tolist()]\n",
    "\n",
    "    if 'cat' in result_cls:\n",
    "        print(\"cat is here\")\n",
    "        \n",
    "        current_time = datetime.now()\n",
    "        current_hour = datetime.now().hour\n",
    "        time_difference = current_time - last_send_time\n",
    "        \n",
    "        print(\"time_difference: \", time_difference)\n",
    "        \n",
    "        if time_difference > timedelta(hours=1):\n",
    "            if 7 <= current_hour and current_hour < 20:\n",
    "                try:\n",
    "                    # Sending a POST request\n",
    "                    response = requests.get(url)\n",
    "\n",
    "                    # Checking the response status code\n",
    "                    if response.status_code == 200:\n",
    "                        print(\"POST request sent successfully.\")\n",
    "                    else:\n",
    "                        print(f\"Failed to send POST request. Status code: {response.status_code}\")\n",
    "\n",
    "                except Exception as e:\n",
    "                    print(f\"An error occurred: {e}\")"
   ]
  },
  {
   "cell_type": "code",
   "execution_count": null,
   "id": "20e40853",
   "metadata": {},
   "outputs": [],
   "source": []
  }
 ],
 "metadata": {
  "kernelspec": {
   "display_name": "fastsam",
   "language": "python",
   "name": "fastsam"
  },
  "language_info": {
   "codemirror_mode": {
    "name": "ipython",
    "version": 3
   },
   "file_extension": ".py",
   "mimetype": "text/x-python",
   "name": "python",
   "nbconvert_exporter": "python",
   "pygments_lexer": "ipython3",
   "version": "3.9.17"
  }
 },
 "nbformat": 4,
 "nbformat_minor": 5
}
